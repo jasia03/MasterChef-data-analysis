{
 "cells": [
  {
   "cell_type": "code",
   "execution_count": null,
   "metadata": {},
   "outputs": [],
   "source": [
    "import requests as req\n",
    "import pandas as pd\n",
    "from bs4 import BeautifulSoup as bs\n",
    "url = \"https://en.wikipedia.org/wiki/MasterChef_(American_TV_series)\"\n",
    "table = \"wikitable\"\n",
    "response = req.get(url)\n",
    "print(response.status_code)"
   ]
  },
  {
   "cell_type": "code",
   "execution_count": null,
   "metadata": {},
   "outputs": [],
   "source": [
    "soup = bs(response.text,'html.parser')\n",
    "us_judge = soup.find_all('table') [1]\n",
    "us_winner = soup.find_all('table')[2]\n",
    "us_rating = soup.find_all('table')[3]"
   ]
  },
  {
   "cell_type": "code",
   "execution_count": null,
   "metadata": {},
   "outputs": [],
   "source": [
    "df_judge = pd.read_html(str(us_judge))\n",
    "df_judge = pd.DataFrame (df_judge[0])\n",
    "df_judge.to_csv('masterchef_unclean_data_us_judge.csv', index=False)"
   ]
  },
  {
   "cell_type": "code",
   "execution_count": null,
   "metadata": {},
   "outputs": [],
   "source": [
    "df_winner = pd.read_html(str(us_winner))\n",
    "df_winner = pd.DataFrame (df_winner[0])\n",
    "df_winner = df_winner.astype(str)"
   ]
  },
  {
   "cell_type": "code",
   "execution_count": null,
   "metadata": {},
   "outputs": [],
   "source": [
    "df_winner = df_winner.apply(lambda x:x.str.strip())\n",
    "df_winner.head(20)"
   ]
  },
  {
   "cell_type": "code",
   "execution_count": null,
   "metadata": {},
   "outputs": [],
   "source": [
    "df_winner.to_csv('masterchef_unclean_data_us_winner.csv', index= False)"
   ]
  },
  {
   "cell_type": "code",
   "execution_count": null,
   "metadata": {},
   "outputs": [],
   "source": [
    "df_rating = pd.read_html(str(us_rating))\n",
    "df_rating = pd.DataFrame(df_rating[0])\n",
    "df_rating = df_rating.astype(str)\n",
    "print(df_rating.info())"
   ]
  },
  {
   "cell_type": "code",
   "execution_count": null,
   "metadata": {},
   "outputs": [],
   "source": [
    "df_rating = df_rating.apply(lambda x:x.str.strip())\n",
    "df_rating.head(20)"
   ]
  },
  {
   "cell_type": "code",
   "execution_count": null,
   "metadata": {},
   "outputs": [],
   "source": [
    "df_rating.to_csv('masterchef_unclean_data_us_rating.csv', index= False)"
   ]
  }
 ],
 "metadata": {
  "kernelspec": {
   "display_name": "Python 3",
   "language": "python",
   "name": "python3"
  },
  "language_info": {
   "codemirror_mode": {
    "name": "ipython",
    "version": 3
   },
   "file_extension": ".py",
   "mimetype": "text/x-python",
   "name": "python",
   "nbconvert_exporter": "python",
   "pygments_lexer": "ipython3",
   "version": "3.10.9"
  },
  "orig_nbformat": 4
 },
 "nbformat": 4,
 "nbformat_minor": 2
}
