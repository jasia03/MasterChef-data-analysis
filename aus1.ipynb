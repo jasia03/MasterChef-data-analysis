{
 "cells": [
  {
   "cell_type": "code",
   "execution_count": 2,
   "metadata": {},
   "outputs": [
    {
     "name": "stdout",
     "output_type": "stream",
     "text": [
      "200\n"
     ]
    }
   ],
   "source": [
    "import requests as req\n",
    "import pandas as pd\n",
    "from bs4 import BeautifulSoup as bs\n",
    "url = \"https://en.wikipedia.org/wiki/MasterChef_Australia\"\n",
    "table = \"wikitable\"\n",
    "response = req.get(url)\n",
    "print(response.status_code)"
   ]
  },
  {
   "cell_type": "code",
   "execution_count": 5,
   "metadata": {},
   "outputs": [],
   "source": [
    "soup = bs(response.text, 'html.parser')\n",
    "aus_1 = soup.find_all('table') [1]\n",
    "aus_2 = soup.find_all('table') [3]\n",
    "aus_3 = soup.find_all('table') [5]"
   ]
  },
  {
   "cell_type": "code",
   "execution_count": 6,
   "metadata": {},
   "outputs": [],
   "source": [
    "df_1 = pd.read_html(str(aus_1))\n",
    "df_1 = pd.DataFrame (df_1[0])\n",
    "\n",
    "df_2 = pd.read_html(str(aus_2))\n",
    "df_2 = pd.DataFrame (df_2[0])\n",
    "\n",
    "df_3 = pd.read_html(str(aus_3))\n",
    "df_3 = pd.DataFrame (df_3[0])"
   ]
  },
  {
   "cell_type": "code",
   "execution_count": 10,
   "metadata": {},
   "outputs": [
    {
     "data": {
      "text/html": [
       "<div>\n",
       "<style scoped>\n",
       "    .dataframe tbody tr th:only-of-type {\n",
       "        vertical-align: middle;\n",
       "    }\n",
       "\n",
       "    .dataframe tbody tr th {\n",
       "        vertical-align: top;\n",
       "    }\n",
       "\n",
       "    .dataframe thead th {\n",
       "        text-align: right;\n",
       "    }\n",
       "</style>\n",
       "<table border=\"1\" class=\"dataframe\">\n",
       "  <thead>\n",
       "    <tr style=\"text-align: right;\">\n",
       "      <th></th>\n",
       "      <th>Series</th>\n",
       "      <th>Premiere date</th>\n",
       "      <th>Finale date</th>\n",
       "      <th>Episodes</th>\n",
       "      <th>Premiere ratings</th>\n",
       "      <th>Rank</th>\n",
       "      <th>Finale ratings (Grand final)</th>\n",
       "      <th>Rank.1</th>\n",
       "      <th>Finale ratings (Winner announced)</th>\n",
       "      <th>Rank.2</th>\n",
       "      <th>Series Average</th>\n",
       "    </tr>\n",
       "  </thead>\n",
       "  <tbody>\n",
       "    <tr>\n",
       "      <th>0</th>\n",
       "      <td>1</td>\n",
       "      <td>27 April 2009</td>\n",
       "      <td>19 July 2009</td>\n",
       "      <td>72</td>\n",
       "      <td>1.428</td>\n",
       "      <td>#7</td>\n",
       "      <td>3.313</td>\n",
       "      <td>#2</td>\n",
       "      <td>3.745</td>\n",
       "      <td>#1</td>\n",
       "      <td>1.532</td>\n",
       "    </tr>\n",
       "    <tr>\n",
       "      <th>1</th>\n",
       "      <td>2</td>\n",
       "      <td>19 April 2010</td>\n",
       "      <td>25 July 2010</td>\n",
       "      <td>84</td>\n",
       "      <td>1.695</td>\n",
       "      <td>#1</td>\n",
       "      <td>3.542</td>\n",
       "      <td>#2</td>\n",
       "      <td>3.962</td>\n",
       "      <td>#1</td>\n",
       "      <td>1.761</td>\n",
       "    </tr>\n",
       "    <tr>\n",
       "      <th>2</th>\n",
       "      <td>3</td>\n",
       "      <td>1 May 2011</td>\n",
       "      <td>7 August 2011</td>\n",
       "      <td>86</td>\n",
       "      <td>1.569</td>\n",
       "      <td>#1</td>\n",
       "      <td>2.334</td>\n",
       "      <td>#2</td>\n",
       "      <td>2.740</td>\n",
       "      <td>#1</td>\n",
       "      <td>1.488</td>\n",
       "    </tr>\n",
       "    <tr>\n",
       "      <th>3</th>\n",
       "      <td>4</td>\n",
       "      <td>6 May 2012</td>\n",
       "      <td>25 July 2012</td>\n",
       "      <td>70</td>\n",
       "      <td>1.368</td>\n",
       "      <td>#4</td>\n",
       "      <td>1.888</td>\n",
       "      <td>#2</td>\n",
       "      <td>2.191</td>\n",
       "      <td>#1</td>\n",
       "      <td>1.132</td>\n",
       "    </tr>\n",
       "    <tr>\n",
       "      <th>4</th>\n",
       "      <td>5</td>\n",
       "      <td>2 June 2013</td>\n",
       "      <td>1 September 2013</td>\n",
       "      <td>65</td>\n",
       "      <td>1.1</td>\n",
       "      <td>#8</td>\n",
       "      <td>0.921</td>\n",
       "      <td>#8</td>\n",
       "      <td>1.057</td>\n",
       "      <td>#5</td>\n",
       "      <td>0.739</td>\n",
       "    </tr>\n",
       "  </tbody>\n",
       "</table>\n",
       "</div>"
      ],
      "text/plain": [
       "  Series  Premiere date       Finale date Episodes Premiere ratings Rank  \\\n",
       "0      1  27 April 2009      19 July 2009       72            1.428   #7   \n",
       "1      2  19 April 2010      25 July 2010       84            1.695   #1   \n",
       "2      3     1 May 2011     7 August 2011       86            1.569   #1   \n",
       "3      4     6 May 2012      25 July 2012       70            1.368   #4   \n",
       "4      5    2 June 2013  1 September 2013       65              1.1   #8   \n",
       "\n",
       "  Finale ratings (Grand final) Rank.1 Finale ratings (Winner announced)  \\\n",
       "0                        3.313     #2                             3.745   \n",
       "1                        3.542     #2                             3.962   \n",
       "2                        2.334     #2                             2.740   \n",
       "3                        1.888     #2                             2.191   \n",
       "4                        0.921     #8                             1.057   \n",
       "\n",
       "  Rank.2 Series Average  \n",
       "0     #1          1.532  \n",
       "1     #1          1.761  \n",
       "2     #1          1.488  \n",
       "3     #1          1.132  \n",
       "4     #5          0.739  "
      ]
     },
     "execution_count": 10,
     "metadata": {},
     "output_type": "execute_result"
    }
   ],
   "source": [
    "df_1 = df_1.astype(str)\n",
    "df_1 = df_1.apply(lambda x:x.str.strip())\n",
    "df_2 = df_2.apply(lambda x: x.str.strip() if x.dtype == \"object\" else x)\n",
    "df_3 = df_3.astype(str)\n",
    "\n",
    "df_3.head()"
   ]
  },
  {
   "cell_type": "code",
   "execution_count": 11,
   "metadata": {},
   "outputs": [],
   "source": [
    "#df_1.to_csv('aus_judges.csv', index=False)\n",
    "#df_2.to_csv('aus_winners.csv', index=False)\n",
    "#df_3.to_csv('aus_ratings.csv', index=False)"
   ]
  }
 ],
 "metadata": {
  "kernelspec": {
   "display_name": "Python 3",
   "language": "python",
   "name": "python3"
  },
  "language_info": {
   "codemirror_mode": {
    "name": "ipython",
    "version": 3
   },
   "file_extension": ".py",
   "mimetype": "text/x-python",
   "name": "python",
   "nbconvert_exporter": "python",
   "pygments_lexer": "ipython3",
   "version": "3.10.9"
  },
  "orig_nbformat": 4
 },
 "nbformat": 4,
 "nbformat_minor": 2
}
