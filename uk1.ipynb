{
 "cells": [
  {
   "cell_type": "code",
   "execution_count": null,
   "metadata": {},
   "outputs": [],
   "source": [
    "import pandas as pd\n",
    "import requests as req\n",
    "from bs4 import BeautifulSoup as bs\n",
    "url = \"https://en.wikipedia.org/wiki/MasterChef_(British_TV_series)#Series_1_(2006)\"\n",
    "response = req.get(url)\n",
    "print(response.status_code)"
   ]
  },
  {
   "cell_type": "code",
   "execution_count": null,
   "metadata": {},
   "outputs": [],
   "source": [
    "soup = bs(response.text, 'html.parser')\n",
    "uk_1 = soup.find_all('table') [1]\n",
    "uk_2 = soup.find_all('table') [2]\n",
    "uk_3 = soup.find_all('table') [3]\n",
    "uk_4 = soup.find_all('table') [4]\n",
    "uk_8 = soup.find_all('table') [8]\n",
    "uk_9 = soup.find_all('table') [9]\n",
    "uk_10 = soup.find_all('table') [10]\n",
    "uk_11 = soup.find_all('table') [11]\n",
    "\n",
    "print(uk_4)"
   ]
  },
  {
   "cell_type": "code",
   "execution_count": null,
   "metadata": {},
   "outputs": [],
   "source": [
    "df_1 = pd.read_html(str(uk_1))\n",
    "df_1 = pd.DataFrame(df_1[0])\n",
    "\n",
    "df_2 = pd.read_html(str(uk_2))\n",
    "df_2 = pd.DataFrame(df_2[0])\n",
    "\n",
    "df_3 = pd.read_html(str(uk_3))\n",
    "df_3 = pd.DataFrame(df_3[0])\n",
    "\n",
    "df_4 = pd.read_html(str(uk_4))\n",
    "df_4 = pd.DataFrame(df_4[0])\n",
    "\n",
    "df_8 = pd.read_html(str(uk_8))\n",
    "df_8 = pd.DataFrame(df_8[0])\n",
    "\n",
    "df_9 = pd.read_html(str(uk_9))\n",
    "df_9 = pd.DataFrame(df_9[0])\n",
    "\n",
    "df_10 = pd.read_html(str(uk_10))\n",
    "df_10 = pd.DataFrame(df_10[0])\n",
    "\n",
    "df_11 = pd.read_html(str(uk_11))\n",
    "df_11 = pd.DataFrame(df_11[0])\n",
    "\n",
    "print(df_11)"
   ]
  },
  {
   "cell_type": "code",
   "execution_count": null,
   "metadata": {},
   "outputs": [],
   "source": [
    "df_winners = pd.concat([df_1, df_2, df_3], ignore_index= True, sort= False)\n",
    "print(df_winners)\n",
    "df_winners.to_csv('uk_winners.csv', index= False)"
   ]
  },
  {
   "cell_type": "code",
   "execution_count": null,
   "metadata": {},
   "outputs": [],
   "source": [
    "df_main_timeline = pd.concat([df_8, df_9, df_10], ignore_index= True, sort= False)\n",
    "print(df_main_timeline)\n",
    "df_main_timeline.to_csv('uk_main_timeline.csv', index= False)"
   ]
  },
  {
   "cell_type": "code",
   "execution_count": null,
   "metadata": {},
   "outputs": [],
   "source": [
    "df_4.to_csv('uk_celebrity_winners.csv', index= False)\n",
    "df_11.to_csv('uk_celebrity_timeline.csv', index= False)"
   ]
  }
 ],
 "metadata": {
  "kernelspec": {
   "display_name": "Python 3",
   "language": "python",
   "name": "python3"
  },
  "language_info": {
   "codemirror_mode": {
    "name": "ipython",
    "version": 3
   },
   "file_extension": ".py",
   "mimetype": "text/x-python",
   "name": "python",
   "nbconvert_exporter": "python",
   "pygments_lexer": "ipython3",
   "version": "3.10.9"
  },
  "orig_nbformat": 4
 },
 "nbformat": 4,
 "nbformat_minor": 2
}
